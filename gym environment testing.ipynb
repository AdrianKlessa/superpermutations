{
 "cells": [
  {
   "cell_type": "code",
   "id": "initial_id",
   "metadata": {
    "collapsed": true,
    "ExecuteTime": {
     "end_time": "2024-12-29T18:50:54.085020Z",
     "start_time": "2024-12-29T18:50:54.033010Z"
    }
   },
   "source": [
    "import permutation_env\n",
    "\n",
    "alphabet = [1,2,3]\n",
    "\n",
    "env = permutation_env.PermutationEnvironment(alphabet)"
   ],
   "outputs": [],
   "execution_count": 1
  },
  {
   "metadata": {
    "ExecuteTime": {
     "end_time": "2024-12-29T18:50:54.090061Z",
     "start_time": "2024-12-29T18:50:54.085020Z"
    }
   },
   "cell_type": "code",
   "source": "env.alphabet",
   "id": "6d52dbe88caeffa0",
   "outputs": [
    {
     "data": {
      "text/plain": [
       "[1, 2, 3]"
      ]
     },
     "execution_count": 2,
     "metadata": {},
     "output_type": "execute_result"
    }
   ],
   "execution_count": 2
  },
  {
   "metadata": {
    "ExecuteTime": {
     "end_time": "2024-12-29T18:50:54.094647Z",
     "start_time": "2024-12-29T18:50:54.090061Z"
    }
   },
   "cell_type": "code",
   "source": "env.number_of_possible_permutations",
   "id": "459d67f233ab2c24",
   "outputs": [
    {
     "data": {
      "text/plain": [
       "6"
      ]
     },
     "execution_count": 3,
     "metadata": {},
     "output_type": "execute_result"
    }
   ],
   "execution_count": 3
  },
  {
   "metadata": {
    "ExecuteTime": {
     "end_time": "2024-12-29T18:50:54.099261Z",
     "start_time": "2024-12-29T18:50:54.094647Z"
    }
   },
   "cell_type": "code",
   "source": "env.possible_permutations",
   "id": "66576cf848100818",
   "outputs": [
    {
     "data": {
      "text/plain": [
       "[(1, 2, 3), (1, 3, 2), (2, 1, 3), (2, 3, 1), (3, 1, 2), (3, 2, 1)]"
      ]
     },
     "execution_count": 4,
     "metadata": {},
     "output_type": "execute_result"
    }
   ],
   "execution_count": 4
  },
  {
   "metadata": {
    "ExecuteTime": {
     "end_time": "2024-12-29T18:50:54.103300Z",
     "start_time": "2024-12-29T18:50:54.099261Z"
    }
   },
   "cell_type": "code",
   "source": "env.state",
   "id": "3785ce902f3119a4",
   "outputs": [
    {
     "data": {
      "text/plain": [
       "[]"
      ]
     },
     "execution_count": 5,
     "metadata": {},
     "output_type": "execute_result"
    }
   ],
   "execution_count": 5
  },
  {
   "metadata": {
    "ExecuteTime": {
     "end_time": "2024-12-29T18:50:54.106638Z",
     "start_time": "2024-12-29T18:50:54.103300Z"
    }
   },
   "cell_type": "code",
   "source": "env.add_permutation(0)",
   "id": "7da0c910e9770eb",
   "outputs": [],
   "execution_count": 6
  },
  {
   "metadata": {
    "ExecuteTime": {
     "end_time": "2024-12-29T18:50:54.110988Z",
     "start_time": "2024-12-29T18:50:54.106638Z"
    }
   },
   "cell_type": "code",
   "source": "env.state",
   "id": "44e6285a11344a44",
   "outputs": [
    {
     "data": {
      "text/plain": [
       "[1, 2, 3]"
      ]
     },
     "execution_count": 7,
     "metadata": {},
     "output_type": "execute_result"
    }
   ],
   "execution_count": 7
  },
  {
   "metadata": {
    "ExecuteTime": {
     "end_time": "2024-12-29T18:50:54.114294Z",
     "start_time": "2024-12-29T18:50:54.110988Z"
    }
   },
   "cell_type": "code",
   "source": "env.add_permutation(3)",
   "id": "9f58838033222339",
   "outputs": [],
   "execution_count": 8
  },
  {
   "metadata": {
    "ExecuteTime": {
     "end_time": "2024-12-29T18:50:54.119624Z",
     "start_time": "2024-12-29T18:50:54.114294Z"
    }
   },
   "cell_type": "code",
   "source": "env.state",
   "id": "a66646a5a59f2584",
   "outputs": [
    {
     "data": {
      "text/plain": [
       "[1, 2, 3, 1]"
      ]
     },
     "execution_count": 9,
     "metadata": {},
     "output_type": "execute_result"
    }
   ],
   "execution_count": 9
  },
  {
   "metadata": {
    "ExecuteTime": {
     "end_time": "2024-12-29T18:50:54.123624Z",
     "start_time": "2024-12-29T18:50:54.119624Z"
    }
   },
   "cell_type": "code",
   "source": "env.get_observation() # ",
   "id": "d4dbeca711a28abc",
   "outputs": [
    {
     "data": {
      "text/plain": [
       "array([ True, False, False,  True, False, False, False, False, False,\n",
       "        True, False, False])"
      ]
     },
     "execution_count": 10,
     "metadata": {},
     "output_type": "execute_result"
    }
   ],
   "execution_count": 10
  },
  {
   "metadata": {
    "ExecuteTime": {
     "end_time": "2024-12-29T18:50:54.127696Z",
     "start_time": "2024-12-29T18:50:54.123624Z"
    }
   },
   "cell_type": "code",
   "source": [
    "import numpy as np\n",
    "alphabet = [1,2,3,4,5]\n",
    "\n",
    "env = permutation_env.PermutationEnvironment(alphabet)\n",
    "env.add_permutation(0)\n",
    "env.add_permutation(64)\n",
    "print(env.state)\n",
    "print(env.get_observation())\n",
    "print(np.nonzero(env.get_observation())) # 0,33, 64, 120+64"
   ],
   "id": "be579c12fdb495fe",
   "outputs": [
    {
     "name": "stdout",
     "output_type": "stream",
     "text": [
      "[1, 2, 3, 4, 5, 1, 2]\n",
      "[ True False False False False False False False False False False False\n",
      " False False False False False False False False False False False False\n",
      " False False False False False False False False False  True False False\n",
      " False False False False False False False False False False False False\n",
      " False False False False False False False False False False False False\n",
      " False False False False  True False False False False False False False\n",
      " False False False False False False False False False False False False\n",
      " False False False False False False False False False False False False\n",
      " False False False False False False False False False False False False\n",
      " False False False False False False False False False False False False\n",
      " False False False False False False False False False False False False\n",
      " False False False False False False False False False False False False\n",
      " False False False False False False False False False False False False\n",
      " False False False False False False False False False False False False\n",
      " False False False False False False False False False False False False\n",
      " False False False False  True False False False False False False False\n",
      " False False False False False False False False False False False False\n",
      " False False False False False False False False False False False False\n",
      " False False False False False False False False False False False False\n",
      " False False False False False False False False False False False False]\n",
      "(array([  0,  33,  64, 184]),)\n"
     ]
    }
   ],
   "execution_count": 11
  },
  {
   "metadata": {
    "ExecuteTime": {
     "end_time": "2024-12-29T18:50:54.132719Z",
     "start_time": "2024-12-29T18:50:54.127696Z"
    }
   },
   "cell_type": "code",
   "source": [
    "import permutation_utils\n",
    "permutation_utils.merge_permutations([1,2,3],[2,3,1])"
   ],
   "id": "217d15d08c83f68d",
   "outputs": [
    {
     "data": {
      "text/plain": [
       "[1, 2, 3, 1]"
      ]
     },
     "execution_count": 12,
     "metadata": {},
     "output_type": "execute_result"
    }
   ],
   "execution_count": 12
  },
  {
   "metadata": {
    "ExecuteTime": {
     "end_time": "2024-12-29T18:50:55.800628Z",
     "start_time": "2024-12-29T18:50:54.132719Z"
    }
   },
   "cell_type": "code",
   "source": [
    "from stable_baselines3.common.env_checker import check_env\n",
    "from GymPermutationsEnv import GymPermutationEnv\n",
    "env = GymPermutationEnv()\n",
    "# If the environment don't follow the interface, an error will be thrown\n",
    "check_env(env, warn=True)"
   ],
   "id": "6e0c2e9d80221c2",
   "outputs": [],
   "execution_count": 13
  },
  {
   "metadata": {},
   "cell_type": "markdown",
   "source": "# Testing the environment",
   "id": "4461ddf553443a3f"
  },
  {
   "metadata": {
    "ExecuteTime": {
     "end_time": "2024-12-29T18:50:55.807691Z",
     "start_time": "2024-12-29T18:50:55.800628Z"
    }
   },
   "cell_type": "code",
   "source": [
    "import random\n",
    "import math\n",
    "ALPHABET_SIZE = 4\n",
    "env = GymPermutationEnv(alphabet_size=ALPHABET_SIZE)\n",
    "\n",
    "obs, _ = env.reset()\n",
    "env.render()\n",
    "\n",
    "print(env.observation_space)\n",
    "print(env.action_space)\n",
    "print(env.action_space.sample())\n",
    "\n",
    "n_steps = 20\n",
    "for step in range(n_steps):\n",
    "    print(f\"Step {step + 1}\")\n",
    "    obs, reward, terminated, truncated, info = env.step(random.randint(0,math.factorial(ALPHABET_SIZE)-1))\n",
    "    done = terminated or truncated\n",
    "    print(\"obs=\", obs, \"reward=\", reward, \"done=\", done)\n",
    "    env.render()\n",
    "    if done:\n",
    "        print(\"Goal reached!\", \"reward=\", reward)\n",
    "        break"
   ],
   "id": "d51abad2f590d941",
   "outputs": [
    {
     "name": "stdout",
     "output_type": "stream",
     "text": [
      "[]\n",
      "MultiDiscrete([2 2 2 2 2 2 2 2 2 2 2 2 2 2 2 2 2 2 2 2 2 2 2 2 2 2 2 2 2 2 2 2 2 2 2 2 2\n",
      " 2 2 2 2 2 2 2 2 2 2 2])\n",
      "Discrete(24)\n",
      "10\n",
      "Step 1\n",
      "obs= [False False False False False False False False  True False False False\n",
      " False False False False False False False False False False False False\n",
      " False False False False False False False False  True False False False\n",
      " False False False False False False False False False False False False] reward= 0 done= False\n",
      "[2, 3, 1, 4]\n",
      "Step 2\n",
      "obs= [False False False False False False False False  True False False False\n",
      " False  True False False False False False False  True False False False\n",
      " False False False False False False False False False False False False\n",
      " False False False False False False False False  True False False False] reward= 5 done= False\n",
      "[2, 3, 1, 4, 2, 1, 3]\n",
      "Step 3\n",
      "obs= [False False False False False False False False  True False False False\n",
      " False  True  True False False False False False  True False False False\n",
      " False False False False False False False False False False False False\n",
      " False False  True False False False False False False False False False] reward= 1 done= False\n",
      "[2, 3, 1, 4, 2, 1, 3, 2, 1, 4]\n",
      "Step 4\n",
      "obs= [False False False False False False False False  True False  True False\n",
      " False  True  True False False False False False  True False False False\n",
      " False False False False False False False False False False  True False\n",
      " False False False False False False False False False False False False] reward= 0 done= False\n",
      "[2, 3, 1, 4, 2, 1, 3, 2, 1, 4, 2, 4, 1, 3]\n",
      "Step 5\n",
      "obs= [False False False False False False False False  True False  True False\n",
      " False  True  True False False False False False  True False False False\n",
      " False False False False False False False False False False  True False\n",
      " False False False False False False False False False False False False] reward= -5 done= False\n",
      "[2, 3, 1, 4, 2, 1, 3, 2, 1, 4, 2, 4, 1, 3]\n",
      "Step 6\n",
      "obs= [False False False False False False False False  True False  True False\n",
      " False  True  True False False False False False  True False False False\n",
      " False False False False False False False False False False  True False\n",
      " False False False False False False False False False False False False] reward= -5 done= False\n",
      "[2, 3, 1, 4, 2, 1, 3, 2, 1, 4, 2, 4, 1, 3]\n",
      "Step 7\n",
      "obs= [False False False False False  True False False  True False  True False\n",
      " False  True  True False False False False False  True False False False\n",
      " False False False False False  True False False False False False False\n",
      " False False False False False False False False False False False False] reward= 0 done= False\n",
      "[2, 3, 1, 4, 2, 1, 3, 2, 1, 4, 2, 4, 1, 3, 1, 4, 3, 2]\n",
      "Step 8\n",
      "obs= [False  True False False False  True False False  True False  True False\n",
      " False  True  True False False False False False  True False False  True\n",
      " False  True False False False False False False False False False False\n",
      " False False False False False False False False False False False False] reward= 4 done= False\n",
      "[2, 3, 1, 4, 2, 1, 3, 2, 1, 4, 2, 4, 1, 3, 1, 4, 3, 2, 1, 2, 4, 3]\n",
      "Step 9\n",
      "obs= [False  True False  True False  True False False  True False  True  True\n",
      " False  True  True False False False False False  True False False  True\n",
      " False False False  True False False False False False False False False\n",
      " False False False False False False False False False False False False] reward= 4 done= False\n",
      "[2, 3, 1, 4, 2, 1, 3, 2, 1, 4, 2, 4, 1, 3, 1, 4, 3, 2, 1, 2, 4, 3, 1, 3, 4, 2]\n",
      "Step 10\n",
      "obs= [False  True False  True False  True False False  True False  True  True\n",
      "  True  True  True False False False False False  True  True False  True\n",
      " False False False False False False False False False False False False\n",
      "  True False False False False False False False False False False False] reward= 4 done= False\n",
      "[2, 3, 1, 4, 2, 1, 3, 2, 1, 4, 2, 4, 1, 3, 1, 4, 3, 2, 1, 2, 4, 3, 1, 3, 4, 2, 3, 1, 2, 4]\n",
      "Step 11\n",
      "obs= [ True  True False  True False  True False False  True False  True  True\n",
      "  True  True  True False False False  True False  True  True False  True\n",
      "  True False False False False False False False False False False False\n",
      " False False False False False False False False False False False False] reward= 4 done= False\n",
      "[2, 3, 1, 4, 2, 1, 3, 2, 1, 4, 2, 4, 1, 3, 1, 4, 3, 2, 1, 2, 4, 3, 1, 3, 4, 2, 3, 1, 2, 4, 1, 2, 3, 4]\n",
      "Step 12\n",
      "obs= [ True  True False  True False  True False False  True False  True  True\n",
      "  True  True  True False False False  True False  True  True False  True\n",
      "  True False False False False False False False False False False False\n",
      " False False False False False False False False False False False False] reward= -5 done= False\n",
      "[2, 3, 1, 4, 2, 1, 3, 2, 1, 4, 2, 4, 1, 3, 1, 4, 3, 2, 1, 2, 4, 3, 1, 3, 4, 2, 3, 1, 2, 4, 1, 2, 3, 4]\n",
      "Step 13\n",
      "obs= [ True  True False  True False  True False False  True False  True  True\n",
      "  True  True  True False False False  True False  True  True False  True\n",
      "  True False False False False False False False False False False False\n",
      " False False False False False False False False False False False False] reward= -5 done= False\n",
      "[2, 3, 1, 4, 2, 1, 3, 2, 1, 4, 2, 4, 1, 3, 1, 4, 3, 2, 1, 2, 4, 3, 1, 3, 4, 2, 3, 1, 2, 4, 1, 2, 3, 4]\n",
      "Step 14\n",
      "obs= [ True  True False  True False  True  True False  True False  True  True\n",
      "  True  True  True False False  True  True False  True  True False  True\n",
      " False False False False False False  True False False False False False\n",
      " False False False False False False False False False False False False] reward= 4 done= False\n",
      "[2, 3, 1, 4, 2, 1, 3, 2, 1, 4, 2, 4, 1, 3, 1, 4, 3, 2, 1, 2, 4, 3, 1, 3, 4, 2, 3, 1, 2, 4, 1, 2, 3, 4, 2, 1, 3, 4]\n",
      "Step 15\n",
      "obs= [ True  True False  True False  True  True False  True False  True  True\n",
      "  True  True  True False False  True  True False  True  True False  True\n",
      " False False False False False False  True False False False False False\n",
      " False False False False False False False False False False False False] reward= -5 done= False\n",
      "[2, 3, 1, 4, 2, 1, 3, 2, 1, 4, 2, 4, 1, 3, 1, 4, 3, 2, 1, 2, 4, 3, 1, 3, 4, 2, 3, 1, 2, 4, 1, 2, 3, 4, 2, 1, 3, 4]\n",
      "Step 16\n",
      "obs= [ True  True False  True False  True  True False  True False  True  True\n",
      "  True  True  True False False  True  True False  True  True False  True\n",
      " False False False False False False  True False False False False False\n",
      " False False False False False False False False False False False False] reward= -5 done= False\n",
      "[2, 3, 1, 4, 2, 1, 3, 2, 1, 4, 2, 4, 1, 3, 1, 4, 3, 2, 1, 2, 4, 3, 1, 3, 4, 2, 3, 1, 2, 4, 1, 2, 3, 4, 2, 1, 3, 4]\n",
      "Step 17\n",
      "obs= [ True  True False  True False  True  True False  True False  True  True\n",
      "  True  True  True False False  True  True False  True  True False  True\n",
      " False False False False False False  True False False False False False\n",
      " False False False False False False False False False False False False] reward= -5 done= False\n",
      "[2, 3, 1, 4, 2, 1, 3, 2, 1, 4, 2, 4, 1, 3, 1, 4, 3, 2, 1, 2, 4, 3, 1, 3, 4, 2, 3, 1, 2, 4, 1, 2, 3, 4, 2, 1, 3, 4]\n",
      "Step 18\n",
      "obs= [ True  True False  True False  True  True False  True False  True  True\n",
      "  True  True  True False False  True  True False  True  True False  True\n",
      " False False False False False False  True False False False False False\n",
      " False False False False False False False False False False False False] reward= -5 done= False\n",
      "[2, 3, 1, 4, 2, 1, 3, 2, 1, 4, 2, 4, 1, 3, 1, 4, 3, 2, 1, 2, 4, 3, 1, 3, 4, 2, 3, 1, 2, 4, 1, 2, 3, 4, 2, 1, 3, 4]\n",
      "Step 19\n",
      "obs= [ True  True False  True False  True  True False  True False  True  True\n",
      "  True  True  True False False  True  True False  True  True False  True\n",
      " False False False False False False  True False False False False False\n",
      " False False False False False False False False False False False False] reward= -5 done= False\n",
      "[2, 3, 1, 4, 2, 1, 3, 2, 1, 4, 2, 4, 1, 3, 1, 4, 3, 2, 1, 2, 4, 3, 1, 3, 4, 2, 3, 1, 2, 4, 1, 2, 3, 4, 2, 1, 3, 4]\n",
      "Step 20\n",
      "obs= [ True  True False  True False  True  True False  True False  True  True\n",
      "  True  True  True False False  True  True False  True  True False  True\n",
      " False False False False False False  True False False False False False\n",
      " False False False False False False False False False False False False] reward= -5 done= False\n",
      "[2, 3, 1, 4, 2, 1, 3, 2, 1, 4, 2, 4, 1, 3, 1, 4, 3, 2, 1, 2, 4, 3, 1, 3, 4, 2, 3, 1, 2, 4, 1, 2, 3, 4, 2, 1, 3, 4]\n"
     ]
    }
   ],
   "execution_count": 14
  },
  {
   "metadata": {
    "ExecuteTime": {
     "end_time": "2024-12-29T18:50:56.288084Z",
     "start_time": "2024-12-29T18:50:56.282084Z"
    }
   },
   "cell_type": "code",
   "source": "env.reset()",
   "id": "e43283e409a803fd",
   "outputs": [
    {
     "data": {
      "text/plain": [
       "(array([False, False, False, False, False, False, False, False, False,\n",
       "        False, False, False, False, False, False, False, False, False,\n",
       "        False, False, False, False, False, False, False, False, False,\n",
       "        False, False, False, False, False, False, False, False, False,\n",
       "        False, False, False, False, False, False, False, False, False,\n",
       "        False, False, False]),\n",
       " {})"
      ]
     },
     "execution_count": 15,
     "metadata": {},
     "output_type": "execute_result"
    }
   ],
   "execution_count": 15
  },
  {
   "metadata": {
    "ExecuteTime": {
     "end_time": "2024-12-29T18:50:56.644229Z",
     "start_time": "2024-12-29T18:50:56.636830Z"
    }
   },
   "cell_type": "code",
   "source": [
    "ALPHABET_SIZE = 5\n",
    "env = GymPermutationEnv(alphabet_size=ALPHABET_SIZE)\n",
    "\n",
    "obs, _ = env.reset()\n",
    "env.render()\n",
    "\n",
    "print(env.observation_space)\n",
    "print(env.action_space)\n",
    "print(env.action_space.sample())\n",
    "moves = [0,64, 64, 65]\n",
    "for step in range(4):\n",
    "    print(f\"Step {step + 1}\")\n",
    "    obs, reward, terminated, truncated, info = env.step(moves[step])\n",
    "    done = terminated or truncated\n",
    "    print(\"obs=\", obs, \"reward=\", reward, \"done=\", done)\n",
    "    env.render()\n",
    "    if done:\n",
    "        print(\"Goal reached!\", \"reward=\", reward)\n",
    "        break"
   ],
   "id": "b745727adad79fa7",
   "outputs": [
    {
     "name": "stdout",
     "output_type": "stream",
     "text": [
      "[]\n",
      "MultiDiscrete([2 2 2 2 2 2 2 2 2 2 2 2 2 2 2 2 2 2 2 2 2 2 2 2 2 2 2 2 2 2 2 2 2 2 2 2 2\n",
      " 2 2 2 2 2 2 2 2 2 2 2 2 2 2 2 2 2 2 2 2 2 2 2 2 2 2 2 2 2 2 2 2 2 2 2 2 2\n",
      " 2 2 2 2 2 2 2 2 2 2 2 2 2 2 2 2 2 2 2 2 2 2 2 2 2 2 2 2 2 2 2 2 2 2 2 2 2\n",
      " 2 2 2 2 2 2 2 2 2 2 2 2 2 2 2 2 2 2 2 2 2 2 2 2 2 2 2 2 2 2 2 2 2 2 2 2 2\n",
      " 2 2 2 2 2 2 2 2 2 2 2 2 2 2 2 2 2 2 2 2 2 2 2 2 2 2 2 2 2 2 2 2 2 2 2 2 2\n",
      " 2 2 2 2 2 2 2 2 2 2 2 2 2 2 2 2 2 2 2 2 2 2 2 2 2 2 2 2 2 2 2 2 2 2 2 2 2\n",
      " 2 2 2 2 2 2 2 2 2 2 2 2 2 2 2 2 2 2])\n",
      "Discrete(120)\n",
      "64\n",
      "Step 1\n",
      "obs= [ True False False False False False False False False False False False\n",
      " False False False False False False False False False False False False\n",
      " False False False False False False False False False False False False\n",
      " False False False False False False False False False False False False\n",
      " False False False False False False False False False False False False\n",
      " False False False False False False False False False False False False\n",
      " False False False False False False False False False False False False\n",
      " False False False False False False False False False False False False\n",
      " False False False False False False False False False False False False\n",
      " False False False False False False False False False False False False\n",
      "  True False False False False False False False False False False False\n",
      " False False False False False False False False False False False False\n",
      " False False False False False False False False False False False False\n",
      " False False False False False False False False False False False False\n",
      " False False False False False False False False False False False False\n",
      " False False False False False False False False False False False False\n",
      " False False False False False False False False False False False False\n",
      " False False False False False False False False False False False False\n",
      " False False False False False False False False False False False False\n",
      " False False False False False False False False False False False False] reward= 0 done= False\n",
      "[1, 2, 3, 4, 5]\n",
      "Step 2\n",
      "obs= [ True False False False False False False False False False False False\n",
      " False False False False False False False False False False False False\n",
      " False False False False False False False False False  True False False\n",
      " False False False False False False False False False False False False\n",
      " False False False False False False False False False False False False\n",
      " False False False False  True False False False False False False False\n",
      " False False False False False False False False False False False False\n",
      " False False False False False False False False False False False False\n",
      " False False False False False False False False False False False False\n",
      " False False False False False False False False False False False False\n",
      " False False False False False False False False False False False False\n",
      " False False False False False False False False False False False False\n",
      " False False False False False False False False False False False False\n",
      " False False False False False False False False False False False False\n",
      " False False False False False False False False False False False False\n",
      " False False False False  True False False False False False False False\n",
      " False False False False False False False False False False False False\n",
      " False False False False False False False False False False False False\n",
      " False False False False False False False False False False False False\n",
      " False False False False False False False False False False False False] reward= 8 done= False\n",
      "[1, 2, 3, 4, 5, 1, 2]\n",
      "Step 3\n",
      "obs= [ True False False False False False False False False False False False\n",
      " False False False False False False False False False False False False\n",
      " False False False False False False False False False  True False False\n",
      " False False False False False False False False False False False False\n",
      " False False False False False False False False False False False False\n",
      " False False False False  True False False False False False False False\n",
      " False False False False False False False False False False False False\n",
      " False False False False False False False False False False False False\n",
      " False False False False False False False False False False False False\n",
      " False False False False False False False False False False False False\n",
      " False False False False False False False False False False False False\n",
      " False False False False False False False False False False False False\n",
      " False False False False False False False False False False False False\n",
      " False False False False False False False False False False False False\n",
      " False False False False False False False False False False False False\n",
      " False False False False  True False False False False False False False\n",
      " False False False False False False False False False False False False\n",
      " False False False False False False False False False False False False\n",
      " False False False False False False False False False False False False\n",
      " False False False False False False False False False False False False] reward= -5 done= False\n",
      "[1, 2, 3, 4, 5, 1, 2]\n",
      "Step 4\n",
      "obs= [ True False False False False False False False False False False False\n",
      " False False False False False False False False False False False False\n",
      " False False False False False False False False False  True False False\n",
      " False False False False False False False False False False False False\n",
      " False False False False False False False False False False False False\n",
      " False False False False  True  True False False False False False False\n",
      " False False False False False False False False False False False False\n",
      " False False False False False False  True False False False False False\n",
      "  True False False False False False False False False False False False\n",
      " False False False False False False False False False False False False\n",
      " False False False False False False False False False False False False\n",
      " False False False False False False False False False False False False\n",
      " False False False False False False False False False False False False\n",
      " False False False False False False False False False False False False\n",
      " False False False False False False False False False False False False\n",
      " False False False False False  True False False False False False False\n",
      " False False False False False False False False False False False False\n",
      " False False False False False False False False False False False False\n",
      " False False False False False False False False False False False False\n",
      " False False False False False False False False False False False False] reward= 10 done= False\n",
      "[1, 2, 3, 4, 5, 1, 2, 3, 4, 5, 2, 1]\n"
     ]
    }
   ],
   "execution_count": 16
  },
  {
   "metadata": {},
   "cell_type": "markdown",
   "source": "### It is sometimes surprisingly easy to get overlapping permutations:",
   "id": "6935c844b275919"
  },
  {
   "metadata": {
    "ExecuteTime": {
     "end_time": "2024-12-29T18:55:54.442856Z",
     "start_time": "2024-12-29T18:55:54.439516Z"
    }
   },
   "cell_type": "code",
   "source": [
    "seq1 = [1, 2, 3, 4, 5, 1, 2]\n",
    "seq2 = [1, 2, 3, 4, 5, 1, 2, 3, 4, 5, 2, 1]"
   ],
   "id": "16220223ab1e0964",
   "outputs": [],
   "execution_count": 17
  },
  {
   "metadata": {
    "ExecuteTime": {
     "end_time": "2024-12-29T18:57:28.100040Z",
     "start_time": "2024-12-29T18:57:28.096564Z"
    }
   },
   "cell_type": "code",
   "source": [
    "a = list(range(1, 5 + 1))\n",
    "possible_perms = permutation_utils.get_all_permutations(a)\n",
    "for index in permutation_utils.get_permutation_ids_contained_in_symbols_string(seq1, list(range(1, 5 + 1))):\n",
    "    print(possible_perms[index])"
   ],
   "id": "ebe0ba6a80caa58d",
   "outputs": [
    {
     "name": "stdout",
     "output_type": "stream",
     "text": [
      "(1, 2, 3, 4, 5)\n",
      "(2, 3, 4, 5, 1)\n",
      "(3, 4, 5, 1, 2)\n"
     ]
    }
   ],
   "execution_count": 18
  },
  {
   "metadata": {
    "ExecuteTime": {
     "end_time": "2024-12-29T18:57:37.628093Z",
     "start_time": "2024-12-29T18:57:37.624653Z"
    }
   },
   "cell_type": "code",
   "source": [
    "a = list(range(1, 5 + 1))\n",
    "possible_perms = permutation_utils.get_all_permutations(a)\n",
    "for index in permutation_utils.get_permutation_ids_contained_in_symbols_string(seq2, list(range(1, 5 + 1))):\n",
    "    print(possible_perms[index])"
   ],
   "id": "773772b681c62ff6",
   "outputs": [
    {
     "name": "stdout",
     "output_type": "stream",
     "text": [
      "(1, 2, 3, 4, 5)\n",
      "(2, 3, 4, 5, 1)\n",
      "(3, 4, 5, 1, 2)\n",
      "(5, 1, 2, 3, 4)\n",
      "(3, 4, 5, 2, 1)\n",
      "(4, 5, 1, 2, 3)\n"
     ]
    }
   ],
   "execution_count": 19
  },
  {
   "metadata": {},
   "cell_type": "markdown",
   "source": "So by merging two permutations we also added two other ones!",
   "id": "eade7675cab9e55f"
  }
 ],
 "metadata": {
  "kernelspec": {
   "display_name": "Python 3",
   "language": "python",
   "name": "python3"
  },
  "language_info": {
   "codemirror_mode": {
    "name": "ipython",
    "version": 2
   },
   "file_extension": ".py",
   "mimetype": "text/x-python",
   "name": "python",
   "nbconvert_exporter": "python",
   "pygments_lexer": "ipython2",
   "version": "2.7.6"
  }
 },
 "nbformat": 4,
 "nbformat_minor": 5
}
